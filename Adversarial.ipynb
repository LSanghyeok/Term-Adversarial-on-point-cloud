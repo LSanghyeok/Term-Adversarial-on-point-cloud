{
 "cells": [
  {
   "cell_type": "code",
   "execution_count": 1,
   "metadata": {},
   "outputs": [],
   "source": [
    "import torch\n",
    "import matplotlib.pyplot as plt\n",
    "import numpy as np\n",
    "\n",
    "from loader import get_dataloader\n",
    "from train import run\n",
    "from models import PointNet, PointCNN\n",
    "from attack import attacktest"
   ]
  },
  {
   "cell_type": "code",
   "execution_count": 2,
   "metadata": {},
   "outputs": [],
   "source": [
    "b_size=16\n",
    "num_class = 10 #\n",
    "name = '{}'.format(num_class)\n",
    "device = torch.device(\"cuda:0\" if torch.cuda.is_available() else 'cpu')\n",
    "train_loader, test_loader = get_dataloader(1024, b_size, name)"
   ]
  },
  {
   "cell_type": "code",
   "execution_count": 3,
   "metadata": {},
   "outputs": [
    {
     "name": "stdout",
     "output_type": "stream",
     "text": [
      "Available devices  1\n",
      "Current cuda device  0\n",
      "GeForce RTX 2080 Ti\n"
     ]
    }
   ],
   "source": [
    "print ('Available devices ', torch.cuda.device_count())\n",
    "print ('Current cuda device ', torch.cuda.current_device())\n",
    "print(torch.cuda.get_device_name(device))"
   ]
  },
  {
   "cell_type": "markdown",
   "metadata": {},
   "source": [
    "Attack"
   ]
  },
  {
   "cell_type": "code",
   "execution_count": 4,
   "metadata": {},
   "outputs": [
    {
     "name": "stdout",
     "output_type": "stream",
     "text": [
      "PointNet test acc: 0.9240\n",
      "PointCNN acc: 0.9383\n"
     ]
    }
   ],
   "source": [
    "#load pretrained\n",
    "from train import test\n",
    "\n",
    "PN = PointNet(num_class)\n",
    "PN.load_state_dict(torch.load('saves/PointNet.pth'))\n",
    "PN.eval()\n",
    "\n",
    "PCNN = PointCNN(num_class)\n",
    "PCNN.load_state_dict(torch.load('saves/PointCNN.pth'))\n",
    "PCNN.eval()\n",
    "\n",
    "#test the loaded model\n",
    "PN = PN.to(device)\n",
    "PCNN = PCNN.to(device)\n",
    "test_acc = test(PN, test_loader, device)\n",
    "print (\"PointNet test acc: {:.04f}\".format(test_acc))\n",
    "test_acc = test(PCNN, test_loader, device)\n",
    "print (\"PointCNN acc: {:.04f}\".format(test_acc))"
   ]
  },
  {
   "cell_type": "markdown",
   "metadata": {},
   "source": [
    "1) PointNet -> PointNet"
   ]
  },
  {
   "cell_type": "code",
   "execution_count": 5,
   "metadata": {},
   "outputs": [
    {
     "name": "stdout",
     "output_type": "stream",
     "text": [
      "Epsilon: 0\tTest Accuracy = 842 / 908 = 0.9273127753303965\n",
      "Epsilon: 0.05\tTest Accuracy = 773 / 908 = 0.8513215859030837\n",
      "Epsilon: 0.1\tTest Accuracy = 665 / 908 = 0.7323788546255506\n",
      "Epsilon: 0.15\tTest Accuracy = 528 / 908 = 0.5814977973568282\n",
      "Epsilon: 0.2\tTest Accuracy = 520 / 908 = 0.5726872246696035\n",
      "Epsilon: 0.25\tTest Accuracy = 455 / 908 = 0.501101321585903\n",
      "Epsilon: 0.3\tTest Accuracy = 341 / 908 = 0.3755506607929515\n"
     ]
    },
    {
     "data": {
      "image/png": "[encoded data removed]",
      "text/plain": [
       "<Figure size 360x360 with 1 Axes>"
      ]
     },
     "metadata": {
      "needs_background": "light"
     },
     "output_type": "display_data"
    }
   ],
   "source": [
    "accuracies = []\n",
    "examples = []\n",
    "epsilons = [0, .05, .1, .15, .2, .25, .3]\n",
    "\n",
    "# Run test for each epsilon\n",
    "for eps in epsilons:\n",
    "    acc, ex = attacktest(PN, PN, device, test_loader, b_size, eps)\n",
    "    accuracies.append(acc)\n",
    "    examples.append(ex)\n",
    "    \n",
    "plt.figure(figsize=(5,5))\n",
    "plt.plot(epsilons, accuracies, \"*-\")\n",
    "plt.yticks(np.arange(0, 1.1, step=0.1))\n",
    "plt.xticks(np.arange(0, .35, step=0.05))\n",
    "plt.title(\"Accuracy vs Epsilon\")\n",
    "plt.xlabel(\"Epsilon\")\n",
    "plt.ylabel(\"Accuracy\")\n",
    "plt.show()"
   ]
  },
  {
   "cell_type": "markdown",
   "metadata": {},
   "source": [
    "2) PointNet -> PointCNN"
   ]
  },
  {
   "cell_type": "code",
   "execution_count": 6,
   "metadata": {},
   "outputs": [
    {
     "name": "stdout",
     "output_type": "stream",
     "text": [
      "Epsilon: 0\tTest Accuracy = 844 / 908 = 0.9295154185022027\n",
      "Epsilon: 0.05\tTest Accuracy = 810 / 908 = 0.8920704845814978\n",
      "Epsilon: 0.1\tTest Accuracy = 745 / 908 = 0.8204845814977973\n",
      "Epsilon: 0.15\tTest Accuracy = 636 / 908 = 0.7004405286343612\n",
      "Epsilon: 0.2\tTest Accuracy = 554 / 908 = 0.6101321585903083\n",
      "Epsilon: 0.25\tTest Accuracy = 440 / 908 = 0.4845814977973568\n",
      "Epsilon: 0.3\tTest Accuracy = 364 / 908 = 0.4008810572687225\n"
     ]
    },
    {
     "data": {
      "image/png": "[encoded data removed]",
      "text/plain": [
       "<Figure size 360x360 with 1 Axes>"
      ]
     },
     "metadata": {
      "needs_background": "light"
     },
     "output_type": "display_data"
    }
   ],
   "source": [
    "accuracies = []\n",
    "examples = []\n",
    "epsilons = [0, .05, .1, .15, .2, .25, .3]\n",
    "\n",
    "# Run test for each epsilon\n",
    "for eps in epsilons:\n",
    "    acc, ex = attacktest(PN, PCNN, device, test_loader, b_size, eps)\n",
    "    accuracies.append(acc)\n",
    "    examples.append(ex)\n",
    "    \n",
    "plt.figure(figsize=(5,5))\n",
    "plt.plot(epsilons, accuracies, \"*-\")\n",
    "plt.yticks(np.arange(0, 1.1, step=0.1))\n",
    "plt.xticks(np.arange(0, .35, step=0.05))\n",
    "plt.title(\"Accuracy vs Epsilon\")\n",
    "plt.xlabel(\"Epsilon\")\n",
    "plt.ylabel(\"Accuracy\")\n",
    "plt.show()"
   ]
  },
  {
   "cell_type": "markdown",
   "metadata": {},
   "source": [
    "3) PointCNN -> PointCNN"
   ]
  },
  {
   "cell_type": "code",
   "execution_count": 7,
   "metadata": {},
   "outputs": [
    {
     "name": "stdout",
     "output_type": "stream",
     "text": [
      "Epsilon: 0\tTest Accuracy = 848 / 908 = 0.933920704845815\n",
      "Epsilon: 0.05\tTest Accuracy = 786 / 908 = 0.8656387665198237\n",
      "Epsilon: 0.1\tTest Accuracy = 742 / 908 = 0.8171806167400881\n",
      "Epsilon: 0.15\tTest Accuracy = 628 / 908 = 0.6916299559471366\n",
      "Epsilon: 0.2\tTest Accuracy = 520 / 908 = 0.5726872246696035\n",
      "Epsilon: 0.25\tTest Accuracy = 423 / 908 = 0.4658590308370044\n",
      "Epsilon: 0.3\tTest Accuracy = 356 / 908 = 0.3920704845814978\n"
     ]
    },
    {
     "data": {
      "image/png": "[encoded data removed]",
      "text/plain": [
       "<Figure size 360x360 with 1 Axes>"
      ]
     },
     "metadata": {
      "needs_background": "light"
     },
     "output_type": "display_data"
    }
   ],
   "source": [
    "accuracies = []\n",
    "examples = []\n",
    "epsilons = [0, .05, .1, .15, .2, .25, .3]\n",
    "\n",
    "# Run test for each epsilon\n",
    "for eps in epsilons:\n",
    "    acc, ex = attacktest(PCNN, PCNN, device, test_loader, b_size, eps)\n",
    "    accuracies.append(acc)\n",
    "    examples.append(ex)\n",
    "    \n",
    "plt.figure(figsize=(5,5))\n",
    "plt.plot(epsilons, accuracies, \"*-\")\n",
    "plt.yticks(np.arange(0, 1.1, step=0.1))\n",
    "plt.xticks(np.arange(0, .35, step=0.05))\n",
    "plt.title(\"Accuracy vs Epsilon\")\n",
    "plt.xlabel(\"Epsilon\")\n",
    "plt.ylabel(\"Accuracy\")\n",
    "plt.show()"
   ]
  },
  {
   "cell_type": "markdown",
   "metadata": {},
   "source": [
    "4) PointCNN -> PointNet"
   ]
  },
  {
   "cell_type": "code",
   "execution_count": 9,
   "metadata": {},
   "outputs": [
    {
     "name": "stdout",
     "output_type": "stream",
     "text": [
      "Epsilon: 0\tTest Accuracy = 845 / 908 = 0.9306167400881057\n",
      "Epsilon: 0.05\tTest Accuracy = 800 / 908 = 0.8810572687224669\n",
      "Epsilon: 0.1\tTest Accuracy = 706 / 908 = 0.7775330396475771\n",
      "Epsilon: 0.15\tTest Accuracy = 588 / 908 = 0.6475770925110133\n",
      "Epsilon: 0.2\tTest Accuracy = 625 / 908 = 0.6883259911894273\n",
      "Epsilon: 0.25\tTest Accuracy = 566 / 908 = 0.6233480176211453\n",
      "Epsilon: 0.3\tTest Accuracy = 465 / 908 = 0.512114537444934\n"
     ]
    },
    {
     "data": {
      "image/png": "[encoded data removed]",
      "text/plain": [
       "<Figure size 360x360 with 1 Axes>"
      ]
     },
     "metadata": {
      "needs_background": "light"
     },
     "output_type": "display_data"
    }
   ],
   "source": [
    "accuracies = []\n",
    "examples = []\n",
    "epsilons = [0, .05, .1, .15, .2, .25, .3]\n",
    "\n",
    "\n",
    "# Run test for each epsilon\n",
    "for eps in epsilons:\n",
    "    acc, ex = attacktest(PCNN, PN, device, test_loader, b_size,eps)\n",
    "    accuracies.append(acc)\n",
    "    examples.append(ex)\n",
    "    \n",
    "plt.figure(figsize=(5,5))\n",
    "plt.plot(epsilons, accuracies, \"*-\")\n",
    "plt.yticks(np.arange(0, 1.1, step=0.1))\n",
    "plt.xticks(np.arange(0, .35, step=0.05))\n",
    "plt.title(\"Accuracy vs Epsilon\")\n",
    "plt.xlabel(\"Epsilon\")\n",
    "plt.ylabel(\"Accuracy\")\n",
    "plt.show()"
   ]
  },
  {
   "cell_type": "code",
   "execution_count": null,
   "metadata": {},
   "outputs": [],
   "source": []
  }
 ],
 "metadata": {
  "kernelspec": {
   "display_name": "Python 3",
   "language": "python",
   "name": "python3"
  },
  "language_info": {
   "codemirror_mode": {
    "name": "ipython",
    "version": 3
   },
   "file_extension": ".py",
   "mimetype": "text/x-python",
   "name": "python",
   "nbconvert_exporter": "python",
   "pygments_lexer": "ipython3",
   "version": "3.8.3"
  }
 },
 "nbformat": 4,
 "nbformat_minor": 4
}
